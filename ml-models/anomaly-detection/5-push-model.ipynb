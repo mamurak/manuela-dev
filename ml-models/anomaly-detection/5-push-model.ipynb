{
 "cells": [
  {
   "cell_type": "markdown",
   "metadata": {},
   "source": [
    "# Publish trained model"
   ]
  },
  {
   "cell_type": "code",
   "execution_count": null,
   "metadata": {
    "tags": []
   },
   "outputs": [],
   "source": [
    "from datetime import datetime\n",
    "from os import environ\n",
    "\n",
    "import boto3\n",
    "import git\n",
    "import yaml\n",
    "\n",
    "from deployment import get_deployment_resource"
   ]
  },
  {
   "cell_type": "markdown",
   "metadata": {},
   "source": [
    "Read and initialize parameters"
   ]
  },
  {
   "cell_type": "code",
   "execution_count": null,
   "metadata": {
    "tags": []
   },
   "outputs": [],
   "source": [
    "s3_endpoint_url = environ.get('AWS_S3_ENDPOINT')\n",
    "s3_access_key = environ.get('AWS_ACCESS_KEY_ID')\n",
    "s3_secret_key = environ.get('AWS_SECRET_ACCESS_KEY')\n",
    "s3_bucket_name = environ.get('AWS_S3_BUCKET')\n",
    "\n",
    "timestamp = datetime.now().strftime('%y%m%d%H%M')\n",
    "git_server_url = 'http://gitea-in-cluster-http.vp-gitea.svc.cluster.local:3000'\n",
    "git_user = environ.get('username')\n",
    "git_password = environ.get('password')\n",
    "git_branch = environ.get('branch', 'main')\n",
    "ops_repo_location = f'{git_server_url}/{git_user}/industrial-edge.git'\n",
    "ops_repo_url = (\n",
    "    f'http://{git_user}:{git_password}@{ops_repo_location.lstrip(\"http://\")}'\n",
    ")\n",
    "model_artifact_id = 'model.joblib'"
   ]
  },
  {
   "cell_type": "markdown",
   "metadata": {},
   "source": [
    "Upload model to S3 bucket"
   ]
  },
  {
   "cell_type": "code",
   "execution_count": null,
   "metadata": {
    "tags": []
   },
   "outputs": [],
   "source": [
    "print(f'Uploading model to bucket {s3_bucket_name}'\n",
    "      f'to S3 storage at {s3_endpoint_url}')\n",
    "s3_client = boto3.client(\n",
    "    's3', endpoint_url=s3_endpoint_url,\n",
    "    aws_access_key_id=s3_access_key, aws_secret_access_key=s3_secret_key\n",
    ")\n",
    "try:\n",
    "    s3_client.create_bucket(Bucket=s3_bucket_name)\n",
    "except Exception:\n",
    "    print(f'Failed to create new bucket with name \"{s3_bucket_name}\". Continuing.')\n",
    "with open('model.joblib', 'rb') as model_file:\n",
    "    s3_client.upload_fileobj(model_file, s3_bucket_name, model_artifact_id)"
   ]
  },
  {
   "cell_type": "markdown",
   "metadata": {},
   "source": [
    "## Push changes to Git\n",
    "\n",
    "Clone ops repository"
   ]
  },
  {
   "cell_type": "code",
   "execution_count": null,
   "metadata": {
    "tags": []
   },
   "outputs": [],
   "source": [
    "print(f'Checking out repo at {ops_repo_location} with user {git_user}')\n",
    "ops_repository_local = '/opt/app-root/src/industrial-edge'\n",
    "try:\n",
    "    repository = git.Repo.clone_from(ops_repo_url, ops_repository_local)\n",
    "except git.GitCommandError as error:\n",
    "    print(f'Git clone failed: {error}\\nChecking out local repository.')\n",
    "    repository = git.Repo(ops_repository_local)\n",
    "\n",
    "print(f'Checking out branch {git_branch}.')\n",
    "repository.git.checkout(git_branch)\n",
    "with repository.config_writer() as git_config:\n",
    "    git_config.set_value('user', 'name', git_user)"
   ]
  },
  {
   "cell_type": "markdown",
   "metadata": {},
   "source": [
    "Update Seldon Deployment CR in test environment"
   ]
  },
  {
   "cell_type": "code",
   "execution_count": null,
   "metadata": {
    "tags": []
   },
   "outputs": [],
   "source": [
    "inference_service_cr = get_deployment_resource(model_artifact_id)\n",
    "\n",
    "print(f'Writing updated Inference Service CR: {inference_service_cr}')\n",
    "\n",
    "inference_service_manifest_location_dev = (\n",
    "    f'{ops_repository_local}/charts/datacenter/data-science-project/templates/'\n",
    "    f'anomaly-detection/anomaly-detection-service.yaml'\n",
    ")\n",
    "\n",
    "with open(inference_service_manifest_location_dev, 'w') as outputfile:\n",
    "    yaml.safe_dump(inference_service_cr, outputfile)\n",
    "\n",
    "inference_service_manifest_location_tst = (\n",
    "    f'{ops_repository_local}/charts/datacenter/manuela-tst/templates/'\n",
    "    f'anomaly-detection/anomaly-detection-service.yaml'\n",
    ")\n",
    "\n",
    "with open(inference_service_manifest_location_tst, 'w') as outputfile:\n",
    "    yaml.safe_dump(inference_service_cr, outputfile)\n",
    "\n",
    "repository.index.add(inference_service_manifest_location_dev)\n",
    "repository.index.add(inference_service_manifest_location_tst)\n",
    "repository.index.commit(f'Model update {timestamp} in test environment.')\n",
    "repository.remotes.origin.push()"
   ]
  },
  {
   "cell_type": "code",
   "execution_count": null,
   "metadata": {},
   "outputs": [],
   "source": []
  }
 ],
 "metadata": {
  "interpreter": {
   "hash": "e7370f93d1d0cde622a1f8e1c04877d8463912d04d973331ad4851f04de6915a"
  },
  "kernelspec": {
   "display_name": "Python 3.9",
   "language": "python",
   "name": "python3"
  },
  "language_info": {
   "codemirror_mode": {
    "name": "ipython",
    "version": 3
   },
   "file_extension": ".py",
   "mimetype": "text/x-python",
   "name": "python",
   "nbconvert_exporter": "python",
   "pygments_lexer": "ipython3",
   "version": "3.9.16"
  }
 },
 "nbformat": 4,
 "nbformat_minor": 4
}
